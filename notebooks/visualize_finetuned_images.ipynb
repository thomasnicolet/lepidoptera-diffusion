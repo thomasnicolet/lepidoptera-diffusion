{
 "cells": [
  {
   "cell_type": "markdown",
   "id": "3c270968",
   "metadata": {},
   "source": [
    "### Images sampled from 9 different genera from our finetuned model"
   ]
  },
  {
   "cell_type": "markdown",
   "id": "8abb17c5",
   "metadata": {},
   "source": [
    "<img src=\"../images/finetuned/grid_finetuned_images_6093175.png\" alt=\"Finetuned images\" />"
   ]
  }
 ],
 "metadata": {
  "kernelspec": {
   "display_name": "Python 3 (ipykernel)",
   "language": "python",
   "name": "python3"
  },
  "language_info": {
   "codemirror_mode": {
    "name": "ipython",
    "version": 3
   },
   "file_extension": ".py",
   "mimetype": "text/x-python",
   "name": "python",
   "nbconvert_exporter": "python",
   "pygments_lexer": "ipython3",
   "version": "3.8.5"
  }
 },
 "nbformat": 4,
 "nbformat_minor": 5
}
