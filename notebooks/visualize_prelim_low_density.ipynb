{
 "cells": [
  {
   "cell_type": "markdown",
   "id": "f9fdf498",
   "metadata": {},
   "source": [
    "# Images sampled from finetuned model on low density classes. Each row is a specific genus and how many n samples the training set consists of."
   ]
  },
  {
   "cell_type": "markdown",
   "id": "ea40b2a3",
   "metadata": {},
   "source": [
    "<img src=\"../images/prelim/low_density_dataset1.png\" alt=\"low density images\" />"
   ]
  }
 ],
 "metadata": {
  "kernelspec": {
   "display_name": "Python 3 (ipykernel)",
   "language": "python",
   "name": "python3"
  },
  "language_info": {
   "codemirror_mode": {
    "name": "ipython",
    "version": 3
   },
   "file_extension": ".py",
   "mimetype": "text/x-python",
   "name": "python",
   "nbconvert_exporter": "python",
   "pygments_lexer": "ipython3",
   "version": "3.10.10"
  }
 },
 "nbformat": 4,
 "nbformat_minor": 5
}
