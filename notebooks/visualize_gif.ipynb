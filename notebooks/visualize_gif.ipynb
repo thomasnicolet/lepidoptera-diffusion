{
 "cells": [
  {
   "cell_type": "markdown",
   "id": "285c0fb2",
   "metadata": {},
   "source": [
    "# Gif of the denoising process of our models"
   ]
  },
  {
   "cell_type": "markdown",
   "id": "ef4e95d0",
   "metadata": {},
   "source": [
    "#### (1) Real image (Parnassius), (2) finetuned model, (3) homemade model, (4) baseline model.\n",
    "\n",
    "Notice the finetuned and baseline model gif include 50 inference steps (this amounts to 51 images). The homemade model gif is made from every 20th frame from 1000 inference steps, which is why it shifts more.\n",
    "\n",
    "Notice our homemade model sampling reconstructs data from the latent distribution slower than the others."
   ]
  },
  {
   "cell_type": "markdown",
   "id": "65afc836",
   "metadata": {},
   "source": [
    "![Alt Text](../images/gifs/butterfly.gif)"
   ]
  }
 ],
 "metadata": {
  "kernelspec": {
   "display_name": "Python 3 (ipykernel)",
   "language": "python",
   "name": "python3"
  },
  "language_info": {
   "codemirror_mode": {
    "name": "ipython",
    "version": 3
   },
   "file_extension": ".py",
   "mimetype": "text/x-python",
   "name": "python",
   "nbconvert_exporter": "python",
   "pygments_lexer": "ipython3",
   "version": "3.8.5"
  }
 },
 "nbformat": 4,
 "nbformat_minor": 5
}
