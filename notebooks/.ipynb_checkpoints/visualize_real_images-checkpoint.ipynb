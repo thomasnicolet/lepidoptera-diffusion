{
 "cells": [
  {
   "cell_type": "markdown",
   "id": "dcf91615",
   "metadata": {},
   "source": [
    "### Images sampled from 9 different genera from our second dataset"
   ]
  },
  {
   "cell_type": "markdown",
   "id": "457c0a8b",
   "metadata": {},
   "source": [
    "<img src=\"../images/real/grid_real_images_8529145.png\" alt=\"Real images\" />"
   ]
  },
  {
   "cell_type": "markdown",
   "id": "84f0a45e",
   "metadata": {},
   "source": [
    "# Another sample"
   ]
  },
  {
   "cell_type": "markdown",
   "id": "48546c27",
   "metadata": {},
   "source": [
    "<img src=\"../images/real/grid_real_images_new_866420.png\" alt=\"Real images\" />"
   ]
  }
 ],
 "metadata": {
  "kernelspec": {
   "display_name": "Python 3 (ipykernel)",
   "language": "python",
   "name": "python3"
  },
  "language_info": {
   "codemirror_mode": {
    "name": "ipython",
    "version": 3
   },
   "file_extension": ".py",
   "mimetype": "text/x-python",
   "name": "python",
   "nbconvert_exporter": "python",
   "pygments_lexer": "ipython3",
   "version": "3.8.5"
  }
 },
 "nbformat": 4,
 "nbformat_minor": 5
}
