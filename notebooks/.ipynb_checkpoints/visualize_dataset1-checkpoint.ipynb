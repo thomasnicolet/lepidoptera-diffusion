{
 "cells": [
  {
   "cell_type": "markdown",
   "id": "3c270968",
   "metadata": {},
   "source": [
    "# Visualization of images from dataset 1 and model output "
   ]
  },
  {
   "cell_type": "markdown",
   "id": "0cf7d43d",
   "metadata": {},
   "source": [
    "#### Real images from dataset 1 (training) - 10 most populated classes "
   ]
  },
  {
   "cell_type": "markdown",
   "id": "00e7cd7a",
   "metadata": {},
   "source": [
    "<img src=\"../images/real_dataset1/grid_real_images_6210719.png\" alt=\"Real images\" />"
   ]
  },
  {
   "cell_type": "markdown",
   "id": "18140622",
   "metadata": {},
   "source": [
    "#### Images from baseline model prompted on 10 most populated classes from dataset 1"
   ]
  },
  {
   "cell_type": "markdown",
   "id": "70c8234c",
   "metadata": {},
   "source": [
    "<img src=\"../images/baseline_dataset1/grid_baseline_images_2315929.png\" alt=\"Baseline images\" />"
   ]
  },
  {
   "cell_type": "markdown",
   "id": "12a61481",
   "metadata": {},
   "source": [
    "#### Images from finetuned model prompted on 10 most populated classes from dataset 1"
   ]
  },
  {
   "cell_type": "markdown",
   "id": "d98cf613",
   "metadata": {},
   "source": [
    "<img src=\"../images/finetuned_dataset1/grid_finetuned_images_2375.png\" alt=\"Finetuned images\" />"
   ]
  }
 ],
 "metadata": {
  "kernelspec": {
   "display_name": "Python 3 (ipykernel)",
   "language": "python",
   "name": "python3"
  },
  "language_info": {
   "codemirror_mode": {
    "name": "ipython",
    "version": 3
   },
   "file_extension": ".py",
   "mimetype": "text/x-python",
   "name": "python",
   "nbconvert_exporter": "python",
   "pygments_lexer": "ipython3",
   "version": "3.8.5"
  }
 },
 "nbformat": 4,
 "nbformat_minor": 5
}
