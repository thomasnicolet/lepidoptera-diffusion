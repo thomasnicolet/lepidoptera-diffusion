{
 "cells": [
  {
   "cell_type": "markdown",
   "id": "dcf91615",
   "metadata": {},
   "source": [
    "### Images sampled from 9 different genera from our basline model"
   ]
  },
  {
   "cell_type": "markdown",
   "id": "457c0a8b",
   "metadata": {},
   "source": [
    "<img src=\"../images/baseline/grid_baseline_images_7999557.png\" alt=\"Baseline images\" />"
   ]
  },
  {
   "cell_type": "markdown",
   "id": "35f73b68",
   "metadata": {},
   "source": [
    "# Another sample below"
   ]
  },
  {
   "cell_type": "markdown",
   "id": "073c099a",
   "metadata": {},
   "source": [
    "<img src=\"../images/baseline/grid_baseline_images_new_4917135.png\" alt=\"Baseline images\" />"
   ]
  }
 ],
 "metadata": {
  "kernelspec": {
   "display_name": "Python 3 (ipykernel)",
   "language": "python",
   "name": "python3"
  },
  "language_info": {
   "codemirror_mode": {
    "name": "ipython",
    "version": 3
   },
   "file_extension": ".py",
   "mimetype": "text/x-python",
   "name": "python",
   "nbconvert_exporter": "python",
   "pygments_lexer": "ipython3",
   "version": "3.8.5"
  }
 },
 "nbformat": 4,
 "nbformat_minor": 5
}
