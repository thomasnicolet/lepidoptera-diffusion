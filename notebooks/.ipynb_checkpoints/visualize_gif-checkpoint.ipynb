{
 "cells": [
  {
   "cell_type": "markdown",
   "id": "285c0fb2",
   "metadata": {},
   "source": [
    "# Gif of the denoising process of our models"
   ]
  },
  {
   "cell_type": "markdown",
   "id": "ef4e95d0",
   "metadata": {},
   "source": [
    "- Left most is a real image of the genus Parnassius sampled from our test set\n",
    "- Second gif is sample from our finetuned model \n",
    "- Third gif is sampled from our homemade model\n",
    "- Fourth gif is sampled from our baseline model"
   ]
  },
  {
   "cell_type": "markdown",
   "id": "65afc836",
   "metadata": {},
   "source": [
    "![Alt Text](../images/gifs/butterfly.gif)"
   ]
  }
 ],
 "metadata": {
  "kernelspec": {
   "display_name": "Python 3 (ipykernel)",
   "language": "python",
   "name": "python3"
  },
  "language_info": {
   "codemirror_mode": {
    "name": "ipython",
    "version": 3
   },
   "file_extension": ".py",
   "mimetype": "text/x-python",
   "name": "python",
   "nbconvert_exporter": "python",
   "pygments_lexer": "ipython3",
   "version": "3.8.5"
  }
 },
 "nbformat": 4,
 "nbformat_minor": 5
}
