{
 "cells": [
  {
   "cell_type": "markdown",
   "id": "dcf91615",
   "metadata": {},
   "source": [
    "### Images sampled from 9 different genera from our homemade model"
   ]
  },
  {
   "cell_type": "markdown",
   "id": "457c0a8b",
   "metadata": {},
   "source": [
    "<img src=\"../images/homemade/grid_homemade_images_88318.png\" alt=\"Homemade images\" />"
   ]
  },
  {
   "cell_type": "markdown",
   "id": "9390c814",
   "metadata": {},
   "source": [
    "# Another sample"
   ]
  },
  {
   "cell_type": "markdown",
   "id": "8c32ac63",
   "metadata": {},
   "source": [
    "<img src=\"../images/homemade/grid_homemade_images_new_2835486.png\" alt=\"Homemade images\" />"
   ]
  }
 ],
 "metadata": {
  "kernelspec": {
   "display_name": "Python 3 (ipykernel)",
   "language": "python",
   "name": "python3"
  },
  "language_info": {
   "codemirror_mode": {
    "name": "ipython",
    "version": 3
   },
   "file_extension": ".py",
   "mimetype": "text/x-python",
   "name": "python",
   "nbconvert_exporter": "python",
   "pygments_lexer": "ipython3",
   "version": "3.8.5"
  }
 },
 "nbformat": 4,
 "nbformat_minor": 5
}
