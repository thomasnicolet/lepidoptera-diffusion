{
 "cells": [
  {
   "cell_type": "markdown",
   "id": "285c0fb2",
   "metadata": {},
   "source": [
    "### Images sampled from 9 different genera from each of our models, including real images (left-most)"
   ]
  },
  {
   "cell_type": "markdown",
   "id": "ef4e95d0",
   "metadata": {},
   "source": [
    "<img src=\"../images/all_models/grid_all_models_4217809.png\" alt=\"Images from all models\" />"
   ]
  }
 ],
 "metadata": {
  "kernelspec": {
   "display_name": "Python 3 (ipykernel)",
   "language": "python",
   "name": "python3"
  },
  "language_info": {
   "codemirror_mode": {
    "name": "ipython",
    "version": 3
   },
   "file_extension": ".py",
   "mimetype": "text/x-python",
   "name": "python",
   "nbconvert_exporter": "python",
   "pygments_lexer": "ipython3",
   "version": "3.8.5"
  }
 },
 "nbformat": 4,
 "nbformat_minor": 5
}
